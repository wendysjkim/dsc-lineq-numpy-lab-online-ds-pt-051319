{
 "cells": [
  {
   "cell_type": "markdown",
   "metadata": {},
   "source": [
    "# Solving Systems of Linear Equations with NumPy - Lab\n",
    "\n",
    "## Introduction \n",
    "\n",
    "Now you've gathered all the required skills needed to solve systems of linear equations. You saw why there was need to calculate inverses of matrices, followed by matrix multiplication to figure out the values of unknown variables. \n",
    "\n",
    "The exercises in this lab present some problems that can be converted into a system of linear equations. \n",
    "\n",
    "## Objectives\n",
    "You will be able to:\n",
    "\n",
    "* Build a system of equations from given problem by creating matrix and vectors in NumPy\n",
    "* Calculate the inverse and dot-product to get the values for unknown variables.\n",
    "* Solve linear equations using `numpy.linalg.solve()`\n",
    "\n",
    "## Exercise 1\n",
    "\n",
    "A coffee shop is having a sale on coffee and tea. \n",
    "\n",
    "On day 1, 29 bags of coffee and 41 bags of tea were sold, for a total of 490 dollars.\n",
    "\n",
    "On day 2, they sold 23 bags of coffee and 41 bags of tea, for which customers paid a total of 448 dollars.  \n",
    "\n",
    "How much does each bag cost?"
   ]
  },
  {
   "cell_type": "code",
   "execution_count": 9,
   "metadata": {},
   "outputs": [
    {
     "data": {
      "text/plain": [
       "matrix([[7.],\n",
       "        [7.]])"
      ]
     },
     "execution_count": 9,
     "metadata": {},
     "output_type": "execute_result"
    }
   ],
   "source": [
    "# Solution:\n",
    "import numpy as np\n",
    "\n",
    "A = np.mat([[29,41], [23,41]])\n",
    "B = np.mat([490, 448])\n",
    "\n",
    "np.linalg.solve(A,B.T)"
   ]
  },
  {
   "cell_type": "code",
   "execution_count": 2,
   "metadata": {},
   "outputs": [],
   "source": [
    "# Explain your answer in terms of prices\n",
    "# For both coffee and tea, each bag costs $7."
   ]
  },
  {
   "cell_type": "markdown",
   "metadata": {},
   "source": [
    "## Exercise 2\n",
    "\n",
    "The cost of admission to a popular music concert was 162 dollars for 12 children and 3 adults. \n",
    "\n",
    "The admission was 122 dollars for 8 children and 3 adults in another music concert. \n",
    "\n",
    "How much was the admission for each child and adult?"
   ]
  },
  {
   "cell_type": "code",
   "execution_count": 8,
   "metadata": {},
   "outputs": [
    {
     "data": {
      "text/plain": [
       "matrix([[10.],\n",
       "        [14.]])"
      ]
     },
     "execution_count": 8,
     "metadata": {},
     "output_type": "execute_result"
    }
   ],
   "source": [
    "# Create a system of equations\n",
    "A = np.mat([[12,3], [8,3]])\n",
    "B = np.mat([162, 122])\n",
    "\n",
    "np.linalg.solve(A,B.T)\n"
   ]
  },
  {
   "cell_type": "code",
   "execution_count": 4,
   "metadata": {},
   "outputs": [],
   "source": [
    "# Describe your result\n",
    "# The admission costs $10 for children, and $14 for adults."
   ]
  },
  {
   "cell_type": "markdown",
   "metadata": {},
   "source": [
    "## Exercise 3\n",
    "\n",
    "You want to make a soup containing tomatoes, carrots and onions.\n",
    "\n",
    "Suppose you don't know the exact mix to put in, but you know there are 7 individual pieces of vegetables, and there are twice as many tomatoes as onions, and that the 7 pieces of vegetables cost 5.25 USD in total. \n",
    "You also know that onions cost 0.5 USD each, tomatoes cost .75 USD and carrots cost 1.25 USD each.\n",
    "\n",
    "Create a system of equations to find out exactly how many of each of the vegetables is in your soup."
   ]
  },
  {
   "cell_type": "code",
   "execution_count": 10,
   "metadata": {},
   "outputs": [
    {
     "data": {
      "text/plain": [
       "matrix([[2.],\n",
       "        [4.],\n",
       "        [1.]])"
      ]
     },
     "execution_count": 10,
     "metadata": {},
     "output_type": "execute_result"
    }
   ],
   "source": [
    "# Create a system of equations\n",
    "# t = 2o\n",
    "# 3o + c = 7\n",
    "# o + t + c = 7\n",
    "# 0.5o + .75t + 1.25c = 5.25\n",
    "\n",
    "A = np.mat([[3,0,1], [1,1,1], [0.5, 0.75, 1.25]])\n",
    "B = np.mat([[7, 7, 5.25]])\n",
    "\n",
    "np.linalg.solve(A,B.T)\n"
   ]
  },
  {
   "cell_type": "code",
   "execution_count": 2,
   "metadata": {},
   "outputs": [],
   "source": [
    "# Explain your answer\n",
    "# There are 2 onions, 4 tomatoes, and 1 carrot."
   ]
  },
  {
   "cell_type": "markdown",
   "metadata": {},
   "source": [
    "## Exercise 4\n",
    "\n",
    "A landlord owns 3 properties: a 1-bedroom, a 2-bedroom , and a 3-bedroom house. \n",
    "\n",
    "The total rent he receives is 1240 USD. \n",
    "\n",
    "He needs to make some repairs, where those repairs cost 10% of the 1-bedroom house’s rent. The 2-bedroom repairs cost 20% of the 2-bedroom rental price, and 30% of the 3-bedroom house's rent for its repairs.  The total repair bill for all three houses was 276 USD. \n",
    "\n",
    "The 3-bedroom house's rent is twice the 1-bedroom house’s rent. \n",
    "\n",
    "How much is the individual rent for three houses?"
   ]
  },
  {
   "cell_type": "code",
   "execution_count": 11,
   "metadata": {},
   "outputs": [
    {
     "data": {
      "text/plain": [
       "matrix([[280.],\n",
       "        [400.],\n",
       "        [560.]])"
      ]
     },
     "execution_count": 11,
     "metadata": {},
     "output_type": "execute_result"
    }
   ],
   "source": [
    "# Create a system of equations\n",
    "# a + b + c = 1240\n",
    "# 0.1a + 0.2b + 0.3c = 276\n",
    "# c = 2a\n",
    "# 3a + b = 1240\n",
    "\n",
    "A = np.mat([[1, 1, 1], [0.1, 0.2, 0.3], [3, 1, 0]])\n",
    "B = np.mat([1240, 276, 1240])\n",
    "\n",
    "np.linalg.solve(A,B.T)"
   ]
  },
  {
   "cell_type": "code",
   "execution_count": 11,
   "metadata": {},
   "outputs": [],
   "source": [
    "# Explain your answer\n",
    "# 1 bedroom costs $280, 2 bedroom costs $400, and 3 bedroom costs $560."
   ]
  },
  {
   "cell_type": "markdown",
   "metadata": {},
   "source": [
    "## Summary\n",
    "In this lab, you learned how to use Numpy to solve linear equations by taking inverses and matrix multiplication and also using numpy's `.solve()`. You'll now take these skills forward and see how you can define a simple regression problem using linear algebra and solve it with Numpy. "
   ]
  }
 ],
 "metadata": {
  "kernelspec": {
   "display_name": "Python 3",
   "language": "python",
   "name": "python3"
  },
  "language_info": {
   "codemirror_mode": {
    "name": "ipython",
    "version": 3
   },
   "file_extension": ".py",
   "mimetype": "text/x-python",
   "name": "python",
   "nbconvert_exporter": "python",
   "pygments_lexer": "ipython3",
   "version": "3.7.3"
  }
 },
 "nbformat": 4,
 "nbformat_minor": 2
}
